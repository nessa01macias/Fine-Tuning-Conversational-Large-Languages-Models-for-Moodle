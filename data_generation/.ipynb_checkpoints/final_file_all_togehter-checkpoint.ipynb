{
 "cells": [
  {
   "cell_type": "code",
   "execution_count": 1,
   "id": "18acd94b",
   "metadata": {},
   "outputs": [],
   "source": [
    "from datasets import load_dataset, load_from_disk\n",
    "import json\n",
    "import os\n",
    "import pandas as pd"
   ]
  },
  {
   "cell_type": "code",
   "execution_count": 2,
   "id": "906faae6",
   "metadata": {},
   "outputs": [],
   "source": [
    "def load_and_filter_sustainability_data(directory, min_length=50):\n",
    "    all_qa_pairs = []  \n",
    "    for filename in os.listdir(directory):\n",
    "        if filename.endswith('.json'):\n",
    "            file_path = os.path.join(directory, filename)\n",
    "            with open(file_path, 'r', encoding='utf-8') as file:  \n",
    "                data = json.load(file)\n",
    "                for entry in data.values(): \n",
    "                    for qa in entry:\n",
    "                        question = qa['question'].strip()\n",
    "                        answer = qa['answer'].strip()\n",
    "                        # Filter by minimum length\n",
    "                        if len(question) >= min_length and len(answer) >= min_length:\n",
    "                            all_qa_pairs.append({'question': question, 'answer': answer})\n",
    "    return all_qa_pairs"
   ]
  },
  {
   "cell_type": "code",
   "execution_count": 15,
   "id": "5139fc5e",
   "metadata": {},
   "outputs": [],
   "source": [
    "def get_format_data_hf(dataset):\n",
    "    df = pd.DataFrame(dataset)\n",
    "    # Dynamically check the column names to adjust accordingly\n",
    "    if 'answer' in df.columns:\n",
    "        df['formatted'] = df.apply(lambda row: f\"[INST] {row['question']} [/INST] {row['answer']}\", axis=1)\n",
    "    elif 'response' in df.columns:\n",
    "        df['formatted'] = df.apply(lambda row: f\"[INST] {row['question']} [/INST] {row['response']}\", axis=1)\n",
    "    else:\n",
    "        raise ValueError(\"Dataset must have 'answer' or 'response' column\")\n",
    "    df = df[['formatted']].rename(columns={'formatted': 'text'})\n",
    "    return df"
   ]
  },
  {
   "cell_type": "code",
   "execution_count": 5,
   "id": "4d87d297",
   "metadata": {},
   "outputs": [],
   "source": [
    "def get_format_data_json(dataset_name):\n",
    "    with open(dataset_name, encoding=\"utf8\") as file:\n",
    "        data = json.load(file)\n",
    "    formatted_data = [f\"[INST] {item['question']} [/INST] {item['answer']}\" for item in data]\n",
    "    df = pd.DataFrame(formatted_data, columns=['text'])\n",
    "    return df"
   ]
  },
  {
   "cell_type": "code",
   "execution_count": 18,
   "id": "2b37de3b",
   "metadata": {},
   "outputs": [],
   "source": [
    "def get_format_data_xsum(dataset):\n",
    "    df = pd.DataFrame(dataset)\n",
    "\n",
    "    # Check if necessary columns are present\n",
    "    if 'documents' in df.columns and 'summary' in df.columns:\n",
    "        # Apply formatting directly to create the desired instruction format\n",
    "        df['formatted'] = df.apply(lambda row: f\"[INST] You are an AI assistant. You need to make a concise summary from the following text: {row['documents']} [/INST] {row['summary']}\", axis=1)\n",
    "    else:\n",
    "        raise ValueError(\"Dataset must have 'documents' and 'summary' columns\")\n",
    "\n",
    "    # Select the formatted column and rename it for consistency\n",
    "    df = df[['formatted']].rename(columns={'formatted': 'text'})\n",
    "    return df"
   ]
  },
  {
   "cell_type": "code",
   "execution_count": 20,
   "id": "f6e1c600",
   "metadata": {},
   "outputs": [],
   "source": [
    "def get_format_data_wyvern(dataset_name):\n",
    "    # Load the dataset\n",
    "    dataset = load_dataset(dataset_name, split=\"train\")\n",
    "    df = pd.DataFrame(dataset)\n",
    "\n",
    "    # Check if necessary columns are present\n",
    "    if 'instruction' in df.columns and 'response' in df.columns:\n",
    "        # Apply formatting directly to create the desired instruction format\n",
    "        df['formatted'] = df.apply(lambda row: f\"[INST] {row['instruction']} [/INST] {row['response']}\", axis=1)\n",
    "    else:\n",
    "        raise ValueError(\"Dataset must have 'instruction' and 'response' columns\")\n",
    "\n",
    "    # Select the formatted column and rename it for consistency\n",
    "    df = df[['formatted']].rename(columns={'formatted': 'text'})\n",
    "    return df"
   ]
  },
  {
   "cell_type": "code",
   "execution_count": 6,
   "id": "48cac350",
   "metadata": {},
   "outputs": [],
   "source": [
    "def save_to_json(output_path, data):\n",
    "    with open(output_path, 'w', encoding='utf-8') as f: \n",
    "        json.dump(data, f, ensure_ascii=False, indent=4)"
   ]
  },
  {
   "cell_type": "code",
   "execution_count": 7,
   "id": "19f2313b",
   "metadata": {},
   "outputs": [
    {
     "name": "stdout",
     "output_type": "stream",
     "text": [
      "Filtered data saved to C:\\Users\\nessa\\Documents\\Thesis\\code\\data_generation\\pdfs\\sustainability\\results\\final\\final_results.json\n"
     ]
    }
   ],
   "source": [
    "base_dir = os.getcwd()\n",
    "results_dir = os.path.join(base_dir, 'pdfs', 'sustainability', 'results')\n",
    "\n",
    "# LOADING SUSATAINABILITY QA DATA\n",
    "qa_pairs = load_and_filter_sustainability_data(results_dir, min_length=10)\n",
    "formatted_data = [f\"[INST] {item['question']} [/INST] {item['answer']}\" for item in qa_pairs]\n",
    "final_output_path = os.path.join(results_dir, 'final', 'final_results.json')\n",
    "# save_to_json(final_output_path, qa_pairs)\n",
    "print(f\"Filtered data saved to {final_output_path}\")"
   ]
  },
  {
   "cell_type": "code",
   "execution_count": 9,
   "id": "9736c310",
   "metadata": {
    "scrolled": true
   },
   "outputs": [
    {
     "name": "stdout",
     "output_type": "stream",
     "text": [
      "Sustainability QA data formated, the amount of rows is: 9473\n",
      "There are 9473 questions\n"
     ]
    },
    {
     "data": {
      "text/html": [
       "<div>\n",
       "<style scoped>\n",
       "    .dataframe tbody tr th:only-of-type {\n",
       "        vertical-align: middle;\n",
       "    }\n",
       "\n",
       "    .dataframe tbody tr th {\n",
       "        vertical-align: top;\n",
       "    }\n",
       "\n",
       "    .dataframe thead th {\n",
       "        text-align: right;\n",
       "    }\n",
       "</style>\n",
       "<table border=\"1\" class=\"dataframe\">\n",
       "  <thead>\n",
       "    <tr style=\"text-align: right;\">\n",
       "      <th></th>\n",
       "      <th>text</th>\n",
       "    </tr>\n",
       "  </thead>\n",
       "  <tbody>\n",
       "    <tr>\n",
       "      <th>0</th>\n",
       "      <td>[INST] How does the author approach sustainabl...</td>\n",
       "    </tr>\n",
       "    <tr>\n",
       "      <th>1</th>\n",
       "      <td>[INST] What are some challenges faced by compa...</td>\n",
       "    </tr>\n",
       "    <tr>\n",
       "      <th>2</th>\n",
       "      <td>[INST] What challenges will future business le...</td>\n",
       "    </tr>\n",
       "    <tr>\n",
       "      <th>3</th>\n",
       "      <td>[INST] Why do 21st century directors, managers...</td>\n",
       "    </tr>\n",
       "    <tr>\n",
       "      <th>4</th>\n",
       "      <td>[INST] Why is it important for companies and t...</td>\n",
       "    </tr>\n",
       "  </tbody>\n",
       "</table>\n",
       "</div>"
      ],
      "text/plain": [
       "                                                text\n",
       "0  [INST] How does the author approach sustainabl...\n",
       "1  [INST] What are some challenges faced by compa...\n",
       "2  [INST] What challenges will future business le...\n",
       "3  [INST] Why do 21st century directors, managers...\n",
       "4  [INST] Why is it important for companies and t..."
      ]
     },
     "execution_count": 9,
     "metadata": {},
     "output_type": "execute_result"
    }
   ],
   "source": [
    "df_sustainability_qa = pd.DataFrame(formatted_data, columns=['text'])\n",
    "print(f\"Sustainability QA data formated, the amount of rows is: {len(df_sustainability_qa)}\")\n",
    "print(f\"There are {len(df_sustainability_qa)} questions\")\n",
    "df_sustainability_qa.head()"
   ]
  },
  {
   "cell_type": "code",
   "execution_count": 17,
   "id": "01014ba8",
   "metadata": {},
   "outputs": [
    {
     "name": "stdout",
     "output_type": "stream",
     "text": [
      "General QA data loaded and formatted, the amount of rows is:  4233923\n"
     ]
    },
    {
     "data": {
      "text/html": [
       "<div>\n",
       "<style scoped>\n",
       "    .dataframe tbody tr th:only-of-type {\n",
       "        vertical-align: middle;\n",
       "    }\n",
       "\n",
       "    .dataframe tbody tr th {\n",
       "        vertical-align: top;\n",
       "    }\n",
       "\n",
       "    .dataframe thead th {\n",
       "        text-align: right;\n",
       "    }\n",
       "</style>\n",
       "<table border=\"1\" class=\"dataframe\">\n",
       "  <thead>\n",
       "    <tr style=\"text-align: right;\">\n",
       "      <th></th>\n",
       "      <th>text</th>\n",
       "    </tr>\n",
       "  </thead>\n",
       "  <tbody>\n",
       "    <tr>\n",
       "      <th>0</th>\n",
       "      <td>[INST] You will be given a definition of a tas...</td>\n",
       "    </tr>\n",
       "    <tr>\n",
       "      <th>1</th>\n",
       "      <td>[INST] Generate an approximately fifteen-word ...</td>\n",
       "    </tr>\n",
       "    <tr>\n",
       "      <th>2</th>\n",
       "      <td>[INST] What happens next in this paragraph?\\n\\...</td>\n",
       "    </tr>\n",
       "    <tr>\n",
       "      <th>3</th>\n",
       "      <td>[INST] Please answer the following question: I...</td>\n",
       "    </tr>\n",
       "    <tr>\n",
       "      <th>4</th>\n",
       "      <td>[INST] James runs a TV show and there are 5 ma...</td>\n",
       "    </tr>\n",
       "  </tbody>\n",
       "</table>\n",
       "</div>"
      ],
      "text/plain": [
       "                                                text\n",
       "0  [INST] You will be given a definition of a tas...\n",
       "1  [INST] Generate an approximately fifteen-word ...\n",
       "2  [INST] What happens next in this paragraph?\\n\\...\n",
       "3  [INST] Please answer the following question: I...\n",
       "4  [INST] James runs a TV show and there are 5 ma..."
      ]
     },
     "execution_count": 17,
     "metadata": {},
     "output_type": "execute_result"
    }
   ],
   "source": [
    "dataset = load_dataset(\"Open-Orca/OpenOrca\", split=\"train\")\n",
    "df_general_qa = get_format_data_hf(dataset)\n",
    "print(\"General QA data loaded and formatted, the amount of rows is: \", len(df_general_qa))\n",
    "df_general_qa.head()"
   ]
  },
  {
   "cell_type": "code",
   "execution_count": null,
   "id": "19f5a4dc",
   "metadata": {},
   "outputs": [],
   "source": [
    "dataset = load_dataset(\"EdinburghNLP/xsum\", split=\"train\")\n",
    "df_summary_qa = get_format_data_xsum(dataset)\n",
    "print(\"Summaries QA data loaded and formatted, the amount of rows is: \", len(df_summary_qa))\n",
    "df_summary_qa.head()"
   ]
  },
  {
   "cell_type": "code",
   "execution_count": null,
   "id": "87dc2f5c",
   "metadata": {},
   "outputs": [],
   "source": [
    "dataset = load_dataset(\"StudentLLM/Open-Wyvern-74k\", split=\"train\")\n",
    "df_general_qa_2 = get_format_data_wyvern(dataset)\n",
    "print(\"General QA data 2 loaded and formatted, the amount of rows is: \", len(df_summary_qa))\n",
    "df_general_qa_2.head()"
   ]
  },
  {
   "cell_type": "code",
   "execution_count": null,
   "id": "c981428b",
   "metadata": {},
   "outputs": [],
   "source": []
  }
 ],
 "metadata": {
  "kernelspec": {
   "display_name": "Python 3 (ipykernel)",
   "language": "python",
   "name": "python3"
  },
  "language_info": {
   "codemirror_mode": {
    "name": "ipython",
    "version": 3
   },
   "file_extension": ".py",
   "mimetype": "text/x-python",
   "name": "python",
   "nbconvert_exporter": "python",
   "pygments_lexer": "ipython3",
   "version": "3.9.13"
  }
 },
 "nbformat": 4,
 "nbformat_minor": 5
}
